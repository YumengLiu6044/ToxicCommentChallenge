{
 "cells": [
  {
   "cell_type": "markdown",
   "metadata": {
    "formattedRanges": [],
    "cell_id": "c35dc770c59b42159779c9ef19c370ba",
    "deepnote_cell_type": "text-cell-h1"
   },
   "source": [
    "# Setup"
   ],
   "block_group": "d4fd06eddb464c1d9bfa332ac05621c7"
  },
  {
   "cell_type": "code",
   "metadata": {
    "source_hash": "84e5f581",
    "execution_start": 1741368974548,
    "execution_millis": 1222,
    "execution_context_id": "3c2484e5-beb7-4309-892a-9c0d1a24ed42",
    "cell_id": "ec12bd5a1d6544f1aad643d647b40168",
    "deepnote_cell_type": "code",
    "ExecuteTime": {
     "end_time": "2025-03-18T23:05:25.830848Z",
     "start_time": "2025-03-18T23:05:25.829288Z"
    }
   },
   "source": [
    "import pandas as pd\n",
    "import numpy as np\n",
    "import matplotlib.pyplot as plt\n",
    "import seaborn as sn"
   ],
   "block_group": "c16d17203e3f45cdae65a60f4cc60d4b",
   "execution_count": 1,
   "outputs": [],
   "outputs_reference": null,
   "content_dependencies": {
    "codeHash": "8ca6a091",
    "usedVariables": [],
    "importedModules": [
     "np",
     "pd",
     "plt"
    ],
    "definedVariables": []
   }
  },
  {
   "cell_type": "code",
   "metadata": {
    "source_hash": "fd59a075",
    "execution_start": 1741368975820,
    "execution_millis": 2149,
    "deepnote_table_state": {
     "sortBy": [],
     "filters": [],
     "pageSize": 5,
     "pageIndex": 0,
     "columnOrder": [
      "id",
      "comment_text",
      "toxic",
      "severe_toxic",
      "obscene",
      "threat",
      "insult",
      "identity_hate"
     ],
     "hiddenColumnIds": [],
     "columnDisplayNames": [],
     "conditionalFilters": [],
     "cellFormattingRules": [],
     "wrappedTextColumnIds": []
    },
    "execution_context_id": "3c2484e5-beb7-4309-892a-9c0d1a24ed42",
    "deepnote_table_loading": false,
    "cell_id": "4dbcf4773cdf49babf56593261c9b154",
    "deepnote_cell_type": "code",
    "ExecuteTime": {
     "end_time": "2025-03-18T23:05:26.558028Z",
     "start_time": "2025-03-18T23:05:25.831509Z"
    }
   },
   "source": [
    "df = pd.read_csv(\"train.csv\")\n",
    "df.head()"
   ],
   "block_group": "7bcef3aaa44d470bb801c1611c796a22",
   "execution_count": 2,
   "outputs": [
    {
     "data": {
      "text/plain": "                 id                                       comment_text  toxic  \\\n0  0000997932d777bf  Explanation\\nWhy the edits made under my usern...      0   \n1  000103f0d9cfb60f  D'aww! He matches this background colour I'm s...      0   \n2  000113f07ec002fd  Hey man, I'm really not trying to edit war. It...      0   \n3  0001b41b1c6bb37e  \"\\nMore\\nI can't make any real suggestions on ...      0   \n4  0001d958c54c6e35  You, sir, are my hero. Any chance you remember...      0   \n\n   severe_toxic  obscene  threat  insult  identity_hate  \n0             0        0       0       0              0  \n1             0        0       0       0              0  \n2             0        0       0       0              0  \n3             0        0       0       0              0  \n4             0        0       0       0              0  ",
      "text/html": "<div>\n<style scoped>\n    .dataframe tbody tr th:only-of-type {\n        vertical-align: middle;\n    }\n\n    .dataframe tbody tr th {\n        vertical-align: top;\n    }\n\n    .dataframe thead th {\n        text-align: right;\n    }\n</style>\n<table border=\"1\" class=\"dataframe\">\n  <thead>\n    <tr style=\"text-align: right;\">\n      <th></th>\n      <th>id</th>\n      <th>comment_text</th>\n      <th>toxic</th>\n      <th>severe_toxic</th>\n      <th>obscene</th>\n      <th>threat</th>\n      <th>insult</th>\n      <th>identity_hate</th>\n    </tr>\n  </thead>\n  <tbody>\n    <tr>\n      <th>0</th>\n      <td>0000997932d777bf</td>\n      <td>Explanation\\nWhy the edits made under my usern...</td>\n      <td>0</td>\n      <td>0</td>\n      <td>0</td>\n      <td>0</td>\n      <td>0</td>\n      <td>0</td>\n    </tr>\n    <tr>\n      <th>1</th>\n      <td>000103f0d9cfb60f</td>\n      <td>D'aww! He matches this background colour I'm s...</td>\n      <td>0</td>\n      <td>0</td>\n      <td>0</td>\n      <td>0</td>\n      <td>0</td>\n      <td>0</td>\n    </tr>\n    <tr>\n      <th>2</th>\n      <td>000113f07ec002fd</td>\n      <td>Hey man, I'm really not trying to edit war. It...</td>\n      <td>0</td>\n      <td>0</td>\n      <td>0</td>\n      <td>0</td>\n      <td>0</td>\n      <td>0</td>\n    </tr>\n    <tr>\n      <th>3</th>\n      <td>0001b41b1c6bb37e</td>\n      <td>\"\\nMore\\nI can't make any real suggestions on ...</td>\n      <td>0</td>\n      <td>0</td>\n      <td>0</td>\n      <td>0</td>\n      <td>0</td>\n      <td>0</td>\n    </tr>\n    <tr>\n      <th>4</th>\n      <td>0001d958c54c6e35</td>\n      <td>You, sir, are my hero. Any chance you remember...</td>\n      <td>0</td>\n      <td>0</td>\n      <td>0</td>\n      <td>0</td>\n      <td>0</td>\n      <td>0</td>\n    </tr>\n  </tbody>\n</table>\n</div>"
     },
     "execution_count": 2,
     "metadata": {},
     "output_type": "execute_result"
    }
   ],
   "outputs_reference": "s3:deepnote-cell-outputs-production/14af92a3-9f75-404b-b968-80d7d49c0f94",
   "content_dependencies": {
    "codeHash": "fd59a075",
    "usedVariables": [
     "df",
     "pd"
    ],
    "importedModules": [],
    "definedVariables": [
     "df"
    ]
   }
  },
  {
   "cell_type": "markdown",
   "metadata": {
    "formattedRanges": [],
    "cell_id": "3a162aef5f9c4d8f98e163d7a949ed78",
    "deepnote_cell_type": "text-cell-h2"
   },
   "source": [
    "## Feature engineering - For Visualization Purposes"
   ],
   "block_group": "638609b8bd2f457895efbe53a1e00ef7"
  },
  {
   "cell_type": "code",
   "metadata": {
    "source_hash": "aaa113bf",
    "execution_start": 1741368978020,
    "execution_millis": 1,
    "execution_context_id": "3c2484e5-beb7-4309-892a-9c0d1a24ed42",
    "cell_id": "a371f3a630de40219ac2605b72e9aad8",
    "deepnote_cell_type": "code",
    "ExecuteTime": {
     "end_time": "2025-03-18T23:05:26.589941Z",
     "start_time": "2025-03-18T23:05:26.564853Z"
    }
   },
   "source": [
    "# Add a feature that counts the number of toxicity labels\n",
    "categories = np.array([\"toxic\", \"severe_toxic\", \"obscene\", \"threat\", \"insult\", \"identity_hate\"])\n",
    "df['num_toxicity_labels'] = df[categories].sum(axis=1)\n",
    "df.head(10)"
   ],
   "block_group": "251af84a26c941caa4497c4a27716f75",
   "execution_count": 3,
   "outputs": [
    {
     "data": {
      "text/plain": "                 id                                       comment_text  toxic  \\\n0  0000997932d777bf  Explanation\\nWhy the edits made under my usern...      0   \n1  000103f0d9cfb60f  D'aww! He matches this background colour I'm s...      0   \n2  000113f07ec002fd  Hey man, I'm really not trying to edit war. It...      0   \n3  0001b41b1c6bb37e  \"\\nMore\\nI can't make any real suggestions on ...      0   \n4  0001d958c54c6e35  You, sir, are my hero. Any chance you remember...      0   \n5  00025465d4725e87  \"\\n\\nCongratulations from me as well, use the ...      0   \n6  0002bcb3da6cb337       COCKSUCKER BEFORE YOU PISS AROUND ON MY WORK      1   \n7  00031b1e95af7921  Your vandalism to the Matt Shirvington article...      0   \n8  00037261f536c51d  Sorry if the word 'nonsense' was offensive to ...      0   \n9  00040093b2687caa  alignment on this subject and which are contra...      0   \n\n   severe_toxic  obscene  threat  insult  identity_hate  num_toxicity_labels  \n0             0        0       0       0              0                    0  \n1             0        0       0       0              0                    0  \n2             0        0       0       0              0                    0  \n3             0        0       0       0              0                    0  \n4             0        0       0       0              0                    0  \n5             0        0       0       0              0                    0  \n6             1        1       0       1              0                    4  \n7             0        0       0       0              0                    0  \n8             0        0       0       0              0                    0  \n9             0        0       0       0              0                    0  ",
      "text/html": "<div>\n<style scoped>\n    .dataframe tbody tr th:only-of-type {\n        vertical-align: middle;\n    }\n\n    .dataframe tbody tr th {\n        vertical-align: top;\n    }\n\n    .dataframe thead th {\n        text-align: right;\n    }\n</style>\n<table border=\"1\" class=\"dataframe\">\n  <thead>\n    <tr style=\"text-align: right;\">\n      <th></th>\n      <th>id</th>\n      <th>comment_text</th>\n      <th>toxic</th>\n      <th>severe_toxic</th>\n      <th>obscene</th>\n      <th>threat</th>\n      <th>insult</th>\n      <th>identity_hate</th>\n      <th>num_toxicity_labels</th>\n    </tr>\n  </thead>\n  <tbody>\n    <tr>\n      <th>0</th>\n      <td>0000997932d777bf</td>\n      <td>Explanation\\nWhy the edits made under my usern...</td>\n      <td>0</td>\n      <td>0</td>\n      <td>0</td>\n      <td>0</td>\n      <td>0</td>\n      <td>0</td>\n      <td>0</td>\n    </tr>\n    <tr>\n      <th>1</th>\n      <td>000103f0d9cfb60f</td>\n      <td>D'aww! He matches this background colour I'm s...</td>\n      <td>0</td>\n      <td>0</td>\n      <td>0</td>\n      <td>0</td>\n      <td>0</td>\n      <td>0</td>\n      <td>0</td>\n    </tr>\n    <tr>\n      <th>2</th>\n      <td>000113f07ec002fd</td>\n      <td>Hey man, I'm really not trying to edit war. It...</td>\n      <td>0</td>\n      <td>0</td>\n      <td>0</td>\n      <td>0</td>\n      <td>0</td>\n      <td>0</td>\n      <td>0</td>\n    </tr>\n    <tr>\n      <th>3</th>\n      <td>0001b41b1c6bb37e</td>\n      <td>\"\\nMore\\nI can't make any real suggestions on ...</td>\n      <td>0</td>\n      <td>0</td>\n      <td>0</td>\n      <td>0</td>\n      <td>0</td>\n      <td>0</td>\n      <td>0</td>\n    </tr>\n    <tr>\n      <th>4</th>\n      <td>0001d958c54c6e35</td>\n      <td>You, sir, are my hero. Any chance you remember...</td>\n      <td>0</td>\n      <td>0</td>\n      <td>0</td>\n      <td>0</td>\n      <td>0</td>\n      <td>0</td>\n      <td>0</td>\n    </tr>\n    <tr>\n      <th>5</th>\n      <td>00025465d4725e87</td>\n      <td>\"\\n\\nCongratulations from me as well, use the ...</td>\n      <td>0</td>\n      <td>0</td>\n      <td>0</td>\n      <td>0</td>\n      <td>0</td>\n      <td>0</td>\n      <td>0</td>\n    </tr>\n    <tr>\n      <th>6</th>\n      <td>0002bcb3da6cb337</td>\n      <td>COCKSUCKER BEFORE YOU PISS AROUND ON MY WORK</td>\n      <td>1</td>\n      <td>1</td>\n      <td>1</td>\n      <td>0</td>\n      <td>1</td>\n      <td>0</td>\n      <td>4</td>\n    </tr>\n    <tr>\n      <th>7</th>\n      <td>00031b1e95af7921</td>\n      <td>Your vandalism to the Matt Shirvington article...</td>\n      <td>0</td>\n      <td>0</td>\n      <td>0</td>\n      <td>0</td>\n      <td>0</td>\n      <td>0</td>\n      <td>0</td>\n    </tr>\n    <tr>\n      <th>8</th>\n      <td>00037261f536c51d</td>\n      <td>Sorry if the word 'nonsense' was offensive to ...</td>\n      <td>0</td>\n      <td>0</td>\n      <td>0</td>\n      <td>0</td>\n      <td>0</td>\n      <td>0</td>\n      <td>0</td>\n    </tr>\n    <tr>\n      <th>9</th>\n      <td>00040093b2687caa</td>\n      <td>alignment on this subject and which are contra...</td>\n      <td>0</td>\n      <td>0</td>\n      <td>0</td>\n      <td>0</td>\n      <td>0</td>\n      <td>0</td>\n      <td>0</td>\n    </tr>\n  </tbody>\n</table>\n</div>"
     },
     "execution_count": 3,
     "metadata": {},
     "output_type": "execute_result"
    }
   ],
   "outputs_reference": "s3:deepnote-cell-outputs-production/cf1245e1-19cf-48f0-a778-775b8048eac9",
   "content_dependencies": {
    "codeHash": "bdf71365",
    "usedVariables": [
     "np",
     "categories",
     "df"
    ],
    "importedModules": [],
    "definedVariables": [
     "categories"
    ]
   }
  },
  {
   "cell_type": "code",
   "metadata": {
    "source_hash": "ba47cf02",
    "execution_start": 1741368978077,
    "execution_millis": 5,
    "deepnote_table_state": {
     "sortBy": [],
     "filters": [],
     "pageSize": 10,
     "pageIndex": 4,
     "columnOrder": [
      "id",
      "comment_text",
      "toxic",
      "severe_toxic",
      "obscene",
      "threat",
      "insult",
      "identity_hate",
      "clean"
     ],
     "hiddenColumnIds": [],
     "columnDisplayNames": [],
     "conditionalFilters": [],
     "cellFormattingRules": [],
     "wrappedTextColumnIds": []
    },
    "execution_context_id": "3c2484e5-beb7-4309-892a-9c0d1a24ed42",
    "deepnote_table_loading": false,
    "cell_id": "0f75b784ac4340efb96d42da023ffda4",
    "deepnote_cell_type": "code",
    "ExecuteTime": {
     "end_time": "2025-03-18T23:05:26.633708Z",
     "start_time": "2025-03-18T23:05:26.593511Z"
    }
   },
   "source": [
    "# Add a feature column showing if the comment is clean\n",
    "np.append(categories, \"clean\")\n",
    "df['clean'] = df[\"num_toxicity_labels\"].apply(lambda x: 1 if x == 0 else 0)\n",
    "df.head(10)"
   ],
   "block_group": "e0d09188fae44931bb537193cb59b6d2",
   "execution_count": 4,
   "outputs": [
    {
     "data": {
      "text/plain": "                 id                                       comment_text  toxic  \\\n0  0000997932d777bf  Explanation\\nWhy the edits made under my usern...      0   \n1  000103f0d9cfb60f  D'aww! He matches this background colour I'm s...      0   \n2  000113f07ec002fd  Hey man, I'm really not trying to edit war. It...      0   \n3  0001b41b1c6bb37e  \"\\nMore\\nI can't make any real suggestions on ...      0   \n4  0001d958c54c6e35  You, sir, are my hero. Any chance you remember...      0   \n5  00025465d4725e87  \"\\n\\nCongratulations from me as well, use the ...      0   \n6  0002bcb3da6cb337       COCKSUCKER BEFORE YOU PISS AROUND ON MY WORK      1   \n7  00031b1e95af7921  Your vandalism to the Matt Shirvington article...      0   \n8  00037261f536c51d  Sorry if the word 'nonsense' was offensive to ...      0   \n9  00040093b2687caa  alignment on this subject and which are contra...      0   \n\n   severe_toxic  obscene  threat  insult  identity_hate  num_toxicity_labels  \\\n0             0        0       0       0              0                    0   \n1             0        0       0       0              0                    0   \n2             0        0       0       0              0                    0   \n3             0        0       0       0              0                    0   \n4             0        0       0       0              0                    0   \n5             0        0       0       0              0                    0   \n6             1        1       0       1              0                    4   \n7             0        0       0       0              0                    0   \n8             0        0       0       0              0                    0   \n9             0        0       0       0              0                    0   \n\n   clean  \n0      1  \n1      1  \n2      1  \n3      1  \n4      1  \n5      1  \n6      0  \n7      1  \n8      1  \n9      1  ",
      "text/html": "<div>\n<style scoped>\n    .dataframe tbody tr th:only-of-type {\n        vertical-align: middle;\n    }\n\n    .dataframe tbody tr th {\n        vertical-align: top;\n    }\n\n    .dataframe thead th {\n        text-align: right;\n    }\n</style>\n<table border=\"1\" class=\"dataframe\">\n  <thead>\n    <tr style=\"text-align: right;\">\n      <th></th>\n      <th>id</th>\n      <th>comment_text</th>\n      <th>toxic</th>\n      <th>severe_toxic</th>\n      <th>obscene</th>\n      <th>threat</th>\n      <th>insult</th>\n      <th>identity_hate</th>\n      <th>num_toxicity_labels</th>\n      <th>clean</th>\n    </tr>\n  </thead>\n  <tbody>\n    <tr>\n      <th>0</th>\n      <td>0000997932d777bf</td>\n      <td>Explanation\\nWhy the edits made under my usern...</td>\n      <td>0</td>\n      <td>0</td>\n      <td>0</td>\n      <td>0</td>\n      <td>0</td>\n      <td>0</td>\n      <td>0</td>\n      <td>1</td>\n    </tr>\n    <tr>\n      <th>1</th>\n      <td>000103f0d9cfb60f</td>\n      <td>D'aww! He matches this background colour I'm s...</td>\n      <td>0</td>\n      <td>0</td>\n      <td>0</td>\n      <td>0</td>\n      <td>0</td>\n      <td>0</td>\n      <td>0</td>\n      <td>1</td>\n    </tr>\n    <tr>\n      <th>2</th>\n      <td>000113f07ec002fd</td>\n      <td>Hey man, I'm really not trying to edit war. It...</td>\n      <td>0</td>\n      <td>0</td>\n      <td>0</td>\n      <td>0</td>\n      <td>0</td>\n      <td>0</td>\n      <td>0</td>\n      <td>1</td>\n    </tr>\n    <tr>\n      <th>3</th>\n      <td>0001b41b1c6bb37e</td>\n      <td>\"\\nMore\\nI can't make any real suggestions on ...</td>\n      <td>0</td>\n      <td>0</td>\n      <td>0</td>\n      <td>0</td>\n      <td>0</td>\n      <td>0</td>\n      <td>0</td>\n      <td>1</td>\n    </tr>\n    <tr>\n      <th>4</th>\n      <td>0001d958c54c6e35</td>\n      <td>You, sir, are my hero. Any chance you remember...</td>\n      <td>0</td>\n      <td>0</td>\n      <td>0</td>\n      <td>0</td>\n      <td>0</td>\n      <td>0</td>\n      <td>0</td>\n      <td>1</td>\n    </tr>\n    <tr>\n      <th>5</th>\n      <td>00025465d4725e87</td>\n      <td>\"\\n\\nCongratulations from me as well, use the ...</td>\n      <td>0</td>\n      <td>0</td>\n      <td>0</td>\n      <td>0</td>\n      <td>0</td>\n      <td>0</td>\n      <td>0</td>\n      <td>1</td>\n    </tr>\n    <tr>\n      <th>6</th>\n      <td>0002bcb3da6cb337</td>\n      <td>COCKSUCKER BEFORE YOU PISS AROUND ON MY WORK</td>\n      <td>1</td>\n      <td>1</td>\n      <td>1</td>\n      <td>0</td>\n      <td>1</td>\n      <td>0</td>\n      <td>4</td>\n      <td>0</td>\n    </tr>\n    <tr>\n      <th>7</th>\n      <td>00031b1e95af7921</td>\n      <td>Your vandalism to the Matt Shirvington article...</td>\n      <td>0</td>\n      <td>0</td>\n      <td>0</td>\n      <td>0</td>\n      <td>0</td>\n      <td>0</td>\n      <td>0</td>\n      <td>1</td>\n    </tr>\n    <tr>\n      <th>8</th>\n      <td>00037261f536c51d</td>\n      <td>Sorry if the word 'nonsense' was offensive to ...</td>\n      <td>0</td>\n      <td>0</td>\n      <td>0</td>\n      <td>0</td>\n      <td>0</td>\n      <td>0</td>\n      <td>0</td>\n      <td>1</td>\n    </tr>\n    <tr>\n      <th>9</th>\n      <td>00040093b2687caa</td>\n      <td>alignment on this subject and which are contra...</td>\n      <td>0</td>\n      <td>0</td>\n      <td>0</td>\n      <td>0</td>\n      <td>0</td>\n      <td>0</td>\n      <td>0</td>\n      <td>1</td>\n    </tr>\n  </tbody>\n</table>\n</div>"
     },
     "execution_count": 4,
     "metadata": {},
     "output_type": "execute_result"
    }
   ],
   "outputs_reference": "s3:deepnote-cell-outputs-production/2d800e99-d9cb-4199-a59c-2b7bbc1d268d",
   "content_dependencies": {
    "codeHash": "56526970",
    "usedVariables": [
     "np",
     "categories",
     "df",
     "x"
    ],
    "importedModules": [],
    "definedVariables": []
   }
  },
  {
   "cell_type": "code",
   "metadata": {
    "source_hash": "c955c234",
    "execution_start": 1741368978128,
    "execution_millis": 41,
    "execution_context_id": "3c2484e5-beb7-4309-892a-9c0d1a24ed42",
    "cell_id": "adc620f7025245d3a603828d142cd64a",
    "deepnote_cell_type": "code",
    "ExecuteTime": {
     "end_time": "2025-03-18T23:05:26.679086Z",
     "start_time": "2025-03-18T23:05:26.635030Z"
    }
   },
   "source": [
    "# Add a feature column of the length of the comment\n",
    "df[\"comment_length\"] = df[\"comment_text\"].apply(lambda x: len(x))\n",
    "df.head(10)"
   ],
   "block_group": "c181983ed3054cb8ba6ada18bab3e288",
   "execution_count": 5,
   "outputs": [
    {
     "data": {
      "text/plain": "                 id                                       comment_text  toxic  \\\n0  0000997932d777bf  Explanation\\nWhy the edits made under my usern...      0   \n1  000103f0d9cfb60f  D'aww! He matches this background colour I'm s...      0   \n2  000113f07ec002fd  Hey man, I'm really not trying to edit war. It...      0   \n3  0001b41b1c6bb37e  \"\\nMore\\nI can't make any real suggestions on ...      0   \n4  0001d958c54c6e35  You, sir, are my hero. Any chance you remember...      0   \n5  00025465d4725e87  \"\\n\\nCongratulations from me as well, use the ...      0   \n6  0002bcb3da6cb337       COCKSUCKER BEFORE YOU PISS AROUND ON MY WORK      1   \n7  00031b1e95af7921  Your vandalism to the Matt Shirvington article...      0   \n8  00037261f536c51d  Sorry if the word 'nonsense' was offensive to ...      0   \n9  00040093b2687caa  alignment on this subject and which are contra...      0   \n\n   severe_toxic  obscene  threat  insult  identity_hate  num_toxicity_labels  \\\n0             0        0       0       0              0                    0   \n1             0        0       0       0              0                    0   \n2             0        0       0       0              0                    0   \n3             0        0       0       0              0                    0   \n4             0        0       0       0              0                    0   \n5             0        0       0       0              0                    0   \n6             1        1       0       1              0                    4   \n7             0        0       0       0              0                    0   \n8             0        0       0       0              0                    0   \n9             0        0       0       0              0                    0   \n\n   clean  comment_length  \n0      1             264  \n1      1             112  \n2      1             233  \n3      1             622  \n4      1              67  \n5      1              65  \n6      0              44  \n7      1             115  \n8      1             472  \n9      1              70  ",
      "text/html": "<div>\n<style scoped>\n    .dataframe tbody tr th:only-of-type {\n        vertical-align: middle;\n    }\n\n    .dataframe tbody tr th {\n        vertical-align: top;\n    }\n\n    .dataframe thead th {\n        text-align: right;\n    }\n</style>\n<table border=\"1\" class=\"dataframe\">\n  <thead>\n    <tr style=\"text-align: right;\">\n      <th></th>\n      <th>id</th>\n      <th>comment_text</th>\n      <th>toxic</th>\n      <th>severe_toxic</th>\n      <th>obscene</th>\n      <th>threat</th>\n      <th>insult</th>\n      <th>identity_hate</th>\n      <th>num_toxicity_labels</th>\n      <th>clean</th>\n      <th>comment_length</th>\n    </tr>\n  </thead>\n  <tbody>\n    <tr>\n      <th>0</th>\n      <td>0000997932d777bf</td>\n      <td>Explanation\\nWhy the edits made under my usern...</td>\n      <td>0</td>\n      <td>0</td>\n      <td>0</td>\n      <td>0</td>\n      <td>0</td>\n      <td>0</td>\n      <td>0</td>\n      <td>1</td>\n      <td>264</td>\n    </tr>\n    <tr>\n      <th>1</th>\n      <td>000103f0d9cfb60f</td>\n      <td>D'aww! He matches this background colour I'm s...</td>\n      <td>0</td>\n      <td>0</td>\n      <td>0</td>\n      <td>0</td>\n      <td>0</td>\n      <td>0</td>\n      <td>0</td>\n      <td>1</td>\n      <td>112</td>\n    </tr>\n    <tr>\n      <th>2</th>\n      <td>000113f07ec002fd</td>\n      <td>Hey man, I'm really not trying to edit war. It...</td>\n      <td>0</td>\n      <td>0</td>\n      <td>0</td>\n      <td>0</td>\n      <td>0</td>\n      <td>0</td>\n      <td>0</td>\n      <td>1</td>\n      <td>233</td>\n    </tr>\n    <tr>\n      <th>3</th>\n      <td>0001b41b1c6bb37e</td>\n      <td>\"\\nMore\\nI can't make any real suggestions on ...</td>\n      <td>0</td>\n      <td>0</td>\n      <td>0</td>\n      <td>0</td>\n      <td>0</td>\n      <td>0</td>\n      <td>0</td>\n      <td>1</td>\n      <td>622</td>\n    </tr>\n    <tr>\n      <th>4</th>\n      <td>0001d958c54c6e35</td>\n      <td>You, sir, are my hero. Any chance you remember...</td>\n      <td>0</td>\n      <td>0</td>\n      <td>0</td>\n      <td>0</td>\n      <td>0</td>\n      <td>0</td>\n      <td>0</td>\n      <td>1</td>\n      <td>67</td>\n    </tr>\n    <tr>\n      <th>5</th>\n      <td>00025465d4725e87</td>\n      <td>\"\\n\\nCongratulations from me as well, use the ...</td>\n      <td>0</td>\n      <td>0</td>\n      <td>0</td>\n      <td>0</td>\n      <td>0</td>\n      <td>0</td>\n      <td>0</td>\n      <td>1</td>\n      <td>65</td>\n    </tr>\n    <tr>\n      <th>6</th>\n      <td>0002bcb3da6cb337</td>\n      <td>COCKSUCKER BEFORE YOU PISS AROUND ON MY WORK</td>\n      <td>1</td>\n      <td>1</td>\n      <td>1</td>\n      <td>0</td>\n      <td>1</td>\n      <td>0</td>\n      <td>4</td>\n      <td>0</td>\n      <td>44</td>\n    </tr>\n    <tr>\n      <th>7</th>\n      <td>00031b1e95af7921</td>\n      <td>Your vandalism to the Matt Shirvington article...</td>\n      <td>0</td>\n      <td>0</td>\n      <td>0</td>\n      <td>0</td>\n      <td>0</td>\n      <td>0</td>\n      <td>0</td>\n      <td>1</td>\n      <td>115</td>\n    </tr>\n    <tr>\n      <th>8</th>\n      <td>00037261f536c51d</td>\n      <td>Sorry if the word 'nonsense' was offensive to ...</td>\n      <td>0</td>\n      <td>0</td>\n      <td>0</td>\n      <td>0</td>\n      <td>0</td>\n      <td>0</td>\n      <td>0</td>\n      <td>1</td>\n      <td>472</td>\n    </tr>\n    <tr>\n      <th>9</th>\n      <td>00040093b2687caa</td>\n      <td>alignment on this subject and which are contra...</td>\n      <td>0</td>\n      <td>0</td>\n      <td>0</td>\n      <td>0</td>\n      <td>0</td>\n      <td>0</td>\n      <td>0</td>\n      <td>1</td>\n      <td>70</td>\n    </tr>\n  </tbody>\n</table>\n</div>"
     },
     "execution_count": 5,
     "metadata": {},
     "output_type": "execute_result"
    }
   ],
   "outputs_reference": "s3:deepnote-cell-outputs-production/e8548172-c3ff-4111-9781-77df27c508b5",
   "content_dependencies": {
    "codeHash": "e991fd4b",
    "usedVariables": [
     "df",
     "x"
    ],
    "importedModules": [],
    "definedVariables": []
   }
  },
  {
   "cell_type": "markdown",
   "metadata": {
    "formattedRanges": [],
    "cell_id": "b9261b30485840b9a45dd227d8145f6c",
    "deepnote_cell_type": "text-cell-h1"
   },
   "source": [
    "# Data Analysis"
   ],
   "block_group": "0060fcf3b0804009af2ae8505ee58b99"
  },
  {
   "cell_type": "markdown",
   "metadata": {
    "formattedRanges": [],
    "cell_id": "919daa15677e4d0e97fa73f5d928d50b",
    "deepnote_cell_type": "text-cell-h2"
   },
   "source": [
    "## Length"
   ],
   "block_group": "c2d2b5597d724016a45159924c3b5a23"
  },
  {
   "cell_type": "code",
   "metadata": {
    "source_hash": "771efafb",
    "execution_start": 1741368978212,
    "execution_millis": 234,
    "execution_context_id": "3c2484e5-beb7-4309-892a-9c0d1a24ed42",
    "cell_id": "14d5b0d2e05445f5abaccdf2bdd0dd66",
    "deepnote_cell_type": "code",
    "ExecuteTime": {
     "end_time": "2025-03-18T23:05:26.784740Z",
     "start_time": "2025-03-18T23:05:26.680669Z"
    }
   },
   "source": [
    "plt.hist(df[\"comment_length\"], bins=40)\n",
    "plt.xlabel(\"Length of comment\")\n",
    "plt.ylabel(\"Frequency\")\n",
    "plt.title(\"Distribution of comment lengths\")\n",
    "plt.show()"
   ],
   "block_group": "f9d50f21879146da90f7640974b986d6",
   "execution_count": 6,
   "outputs": [
    {
     "data": {
      "text/plain": "<Figure size 640x480 with 1 Axes>",
      "image/png": "[encoded data removed]"
     },
     "metadata": {},
     "output_type": "display_data"
    }
   ],
   "outputs_reference": "s3:deepnote-cell-outputs-production/6dadaea9-5fe3-4462-9b39-1686842a10ee",
   "content_dependencies": {
    "codeHash": "771efafb",
    "usedVariables": [
     "df",
     "plt"
    ],
    "importedModules": [],
    "definedVariables": []
   }
  },
  {
   "cell_type": "markdown",
   "metadata": {
    "formattedRanges": [],
    "cell_id": "a05be78519714a16bb73aa624d575afd",
    "deepnote_cell_type": "text-cell-h2"
   },
   "source": [
    "## Label Distribution"
   ],
   "block_group": "fd83cd0366c44560b161b7c84a3a4e80"
  },
  {
   "cell_type": "code",
   "metadata": {
    "source_hash": "d460a5e6",
    "execution_start": 1741368978500,
    "execution_millis": 183,
    "execution_context_id": "3c2484e5-beb7-4309-892a-9c0d1a24ed42",
    "cell_id": "56612b85534a466fb9a0d845320c5955",
    "deepnote_cell_type": "code",
    "ExecuteTime": {
     "end_time": "2025-03-18T23:05:26.849329Z",
     "start_time": "2025-03-18T23:05:26.786290Z"
    }
   },
   "source": [
    "# Sorted label distribution\n",
    "categories = np.array([\"toxic\", \"severe_toxic\", \"obscene\", \"threat\", \"insult\", \"identity_hate\", \"clean\"])\n",
    "frequencies = df[categories].sum()\n",
    "\n",
    "sorted_indicies = np.argsort(frequencies)\n",
    "frequencies = frequencies[sorted_indicies]\n",
    "categories = categories[sorted_indicies]\n",
    "\n",
    "plt.figure(figsize=(10, 5))\n",
    "plt.bar(categories, frequencies)\n",
    "plt.xlabel(\"Label\")\n",
    "plt.ylabel(\"Frequency\")\n",
    "plt.title(\"Distribution of Labels\")\n",
    "plt.show()"
   ],
   "block_group": "a8f1330049b341c4aea31aa30d8cde8d",
   "execution_count": 7,
   "outputs": [
    {
     "name": "stderr",
     "output_type": "stream",
     "text": [
      "/var/folders/8v/3hj81gys6dgdw401b74kwjrr0000gn/T/ipykernel_77424/388581258.py:6: FutureWarning: Series.__getitem__ treating keys as positions is deprecated. In a future version, integer keys will always be treated as labels (consistent with DataFrame behavior). To access a value by position, use `ser.iloc[pos]`\n",
      "  frequencies = frequencies[sorted_indicies]\n"
     ]
    },
    {
     "data": {
      "text/plain": "<Figure size 1000x500 with 1 Axes>",
      "image/png": "[encoded data removed]"
     },
     "metadata": {},
     "output_type": "display_data"
    }
   ],
   "outputs_reference": "s3:deepnote-cell-outputs-production/ec317e80-9a45-45dc-8f65-16af217feea0",
   "content_dependencies": {
    "codeHash": "d460a5e6",
    "usedVariables": [
     "frequencies",
     "np",
     "categories",
     "plt",
     "df",
     "sorted_indicies"
    ],
    "importedModules": [],
    "definedVariables": [
     "categories",
     "sorted_indicies",
     "frequencies"
    ]
   }
  },
  {
   "cell_type": "markdown",
   "metadata": {
    "formattedRanges": [],
    "cell_id": "b2f9f90f377341dd8dfbadcffdc0ab23",
    "deepnote_cell_type": "text-cell-h2"
   },
   "source": [
    "## Correlation Matrix"
   ],
   "block_group": "937dffdcbc2042158319bbd26f93d032"
  },
  {
   "cell_type": "code",
   "metadata": {
    "source_hash": "41127232",
    "execution_start": 1741368978732,
    "execution_millis": 174,
    "execution_context_id": "3c2484e5-beb7-4309-892a-9c0d1a24ed42",
    "cell_id": "8a84e08603af40b9a58810b06976e428",
    "deepnote_cell_type": "code",
    "ExecuteTime": {
     "end_time": "2025-03-18T23:05:26.960708Z",
     "start_time": "2025-03-18T23:05:26.850828Z"
    }
   },
   "source": [
    "cor_matrix = df[categories[:-1]].corr()\n",
    "\n",
    "sn.heatmap(cor_matrix, cmap=\"Blues\", annot=True)"
   ],
   "block_group": "9117b72fac5f4b6f9308b3b2f1d48d85",
   "execution_count": 8,
   "outputs": [
    {
     "data": {
      "text/plain": "<Axes: >"
     },
     "execution_count": 8,
     "metadata": {},
     "output_type": "execute_result"
    },
    {
     "data": {
      "text/plain": "<Figure size 640x480 with 2 Axes>",
      "image/png": "[encoded data removed]"
     },
     "metadata": {},
     "output_type": "display_data"
    }
   ],
   "outputs_reference": "s3:deepnote-cell-outputs-production/2798b629-fc51-4dab-8dd0-450f65feb80a",
   "content_dependencies": null
  },
  {
   "cell_type": "markdown",
   "metadata": {
    "formattedRanges": [],
    "cell_id": "fbe2cd0604314a53b5fac46055e045fa",
    "deepnote_cell_type": "text-cell-h1"
   },
   "source": [
    "# Data Preprocessing"
   ],
   "block_group": "7533155443654217bd61fc5b9e99f7cd"
  },
  {
   "cell_type": "markdown",
   "metadata": {
    "formattedRanges": [],
    "cell_id": "9bb9c0a3a7fc4fc7bb119fd28de841b7",
    "deepnote_cell_type": "text-cell-h2"
   },
   "source": [
    "## Outlier Removal"
   ],
   "block_group": "875306d00d524aa9a92b7c5e552a1991"
  },
  {
   "cell_type": "code",
   "metadata": {
    "source_hash": "7e7263ff",
    "execution_start": 1741368979136,
    "execution_millis": 255,
    "execution_context_id": "3c2484e5-beb7-4309-892a-9c0d1a24ed42",
    "cell_id": "7bd59c08328c4edfbaab47947441af9e",
    "deepnote_cell_type": "code",
    "ExecuteTime": {
     "end_time": "2025-03-18T23:05:27.038359Z",
     "start_time": "2025-03-18T23:05:26.963122Z"
    }
   },
   "source": [
    "# Selected 95th percentile of comment lengths\n",
    "upper_bound = df[\"comment_length\"].quantile(0.95)\n",
    "print(f\"Upper bound: {upper_bound}\")\n",
    "df = df[(df[\"comment_length\"] <= upper_bound) & (df[\"comment_length\"] >= 5)]\n",
    "df = df.dropna()\n",
    "plt.hist(df[\"comment_length\"], bins=40)\n",
    "plt.show()"
   ],
   "block_group": "7e9d9317d53548379b96e089c696d72a",
   "execution_count": 9,
   "outputs": [
    {
     "name": "stdout",
     "output_type": "stream",
     "text": [
      "Upper bound: 1355.0\n"
     ]
    },
    {
     "data": {
      "text/plain": "<Figure size 640x480 with 1 Axes>",
      "image/png": "[encoded data removed]"
     },
     "metadata": {},
     "output_type": "display_data"
    }
   ],
   "outputs_reference": "s3:deepnote-cell-outputs-production/1e5f3a75-2ab7-497e-8f54-423ee36e9cf9",
   "content_dependencies": {
    "codeHash": "49ab8b30",
    "usedVariables": [
     "df",
     "plt",
     "percentile_95"
    ],
    "importedModules": [],
    "definedVariables": [
     "df",
     "percentile_95"
    ]
   }
  },
  {
   "cell_type": "markdown",
   "metadata": {
    "formattedRanges": [],
    "cell_id": "e69feff0d951464fa2de6eb128baf6aa",
    "deepnote_cell_type": "text-cell-h2"
   },
   "source": [
    "## Data Rebalancing"
   ],
   "block_group": "0d55bc98282a48bd90fd7d88d4b90c5f"
  },
  {
   "cell_type": "code",
   "metadata": {
    "source_hash": "e209c549",
    "execution_start": 1741368979440,
    "execution_millis": 28938,
    "deepnote_table_state": {
     "sortBy": [],
     "filters": [],
     "pageSize": 10,
     "pageIndex": 0,
     "columnOrder": [
      "id",
      "comment_text",
      "toxic",
      "severe_toxic",
      "obscene",
      "threat",
      "insult",
      "identity_hate",
      "num_toxicity_labels",
      "clean",
      "comment_length"
     ],
     "hiddenColumnIds": [],
     "columnDisplayNames": [],
     "conditionalFilters": [],
     "cellFormattingRules": [],
     "wrappedTextColumnIds": []
    },
    "execution_context_id": "3c2484e5-beb7-4309-892a-9c0d1a24ed42",
    "deepnote_table_loading": false,
    "cell_id": "c40d108b4d864261b0b226b6c277f404",
    "deepnote_cell_type": "code",
    "ExecuteTime": {
     "end_time": "2025-03-18T23:05:27.041179Z",
     "start_time": "2025-03-18T23:05:27.038932Z"
    }
   },
   "source": [
    "# from googletrans import Translator\n",
    "# from tqdm.asyncio import tqdm\n",
    "# \n",
    "# languages = [\"fr\", \"es\", \"en\"]\n",
    "# translator = Translator()\n",
    "# \n",
    "# async def multi_step_back_trans(source_text: str, target_languages: []) -> str:\n",
    "#     \"\"\"Back-translates the source text using multiple translation steps\"\"\"\n",
    "#     augmented_text = source_text\n",
    "#     for lan in target_languages:\n",
    "#         augmented_text = await translator.translate(augmented_text, dest=lan)\n",
    "#         augmented_text = augmented_text.text\n",
    "#     return augmented_text\n",
    "# \n",
    "# # Select data to resample\n",
    "# selected_labels = [\"threat\", \"identity_hate\", \"severe_toxic\"]\n",
    "# df_subset = df[df[selected_labels].sum(axis=1) > 0]\n",
    "# duplicated = df_subset.copy()\n",
    "# \n",
    "# tasks = [multi_step_back_trans(text, languages) for text in duplicated[\"comment_text\"]]\n",
    "# duplicated[\"comment_text\"] = await tqdm.gather(*tasks)\n",
    "# \n",
    "# print(f\"Before resampling: {df.shape}\")\n",
    "# df = pd.concat([duplicated, df], ignore_index=True)\n",
    "# print(f\"After resampling: {df.shape}\")\n",
    "# df.to_csv(\"resampled_data.csv\")\n",
    "# \n",
    "# duplicated"
   ],
   "block_group": "dd7fcd5692a545dca520a87509e6d65b",
   "execution_count": 10,
   "outputs": [],
   "outputs_reference": "s3:deepnote-cell-outputs-production/9a3615b1-958b-4d30-b694-64fca92a5937",
   "content_dependencies": null
  },
  {
   "cell_type": "code",
   "metadata": {
    "source_hash": "9c7a6b5f",
    "execution_start": 1741369008428,
    "execution_millis": 999,
    "execution_context_id": "3c2484e5-beb7-4309-892a-9c0d1a24ed42",
    "cell_id": "fd1c39529c264e86b830f5003810f9d0",
    "deepnote_cell_type": "code",
    "ExecuteTime": {
     "end_time": "2025-03-18T23:05:27.089097Z",
     "start_time": "2025-03-18T23:05:27.041981Z"
    }
   },
   "source": [
    "# Reload the saved data to not lose progress\n",
    "# df = pd.read_csv(\"resampled_data.csv\")\n",
    "\n",
    "# SAMPLE_SIZE = 17500\n",
    "# unclean_df = df[df[\"clean\"] == 0]\n",
    "# clean_df = df[df[\"clean\"] == 1]\n",
    "# clean_df = clean_df.sample(n=SAMPLE_SIZE, random_state=42)\n",
    "# \n",
    "# df = pd.concat([unclean_df, clean_df], ignore_index=True)\n",
    "\n",
    "# Sorted label distribution\n",
    "categories = np.array([\"toxic\", \"severe_toxic\", \"obscene\", \"threat\", \"insult\", \"identity_hate\", \"clean\"])\n",
    "frequencies = df[categories].sum()\n",
    "\n",
    "sorted_indicies = np.argsort(frequencies)\n",
    "frequencies = frequencies[sorted_indicies]\n",
    "categories = categories[sorted_indicies]\n",
    "\n",
    "plt.figure(figsize=(10, 5))\n",
    "plt.bar(categories, frequencies)\n",
    "plt.xlabel(\"Label\")\n",
    "plt.ylabel(\"Frequency\")\n",
    "plt.title(\"Balanced Distribution of Labels\")\n",
    "plt.show()"
   ],
   "block_group": "d475b9fc92c94f068f1d2d10f7e6dac3",
   "execution_count": 11,
   "outputs": [
    {
     "name": "stderr",
     "output_type": "stream",
     "text": [
      "/var/folders/8v/3hj81gys6dgdw401b74kwjrr0000gn/T/ipykernel_77424/3770408267.py:16: FutureWarning: Series.__getitem__ treating keys as positions is deprecated. In a future version, integer keys will always be treated as labels (consistent with DataFrame behavior). To access a value by position, use `ser.iloc[pos]`\n",
      "  frequencies = frequencies[sorted_indicies]\n"
     ]
    },
    {
     "data": {
      "text/plain": "<Figure size 1000x500 with 1 Axes>",
      "image/png": "[encoded data removed]"
     },
     "metadata": {},
     "output_type": "display_data"
    }
   ],
   "outputs_reference": "s3:deepnote-cell-outputs-production/b3a2011a-e825-4bc1-bc91-63b96af49f99",
   "content_dependencies": null
  },
  {
   "cell_type": "markdown",
   "metadata": {
    "formattedRanges": [],
    "cell_id": "42354ab9be6449a3ab887bb399740d4a",
    "deepnote_cell_type": "text-cell-p"
   },
   "source": [],
   "block_group": "be738c69daef4f019b960a6fad4846eb"
  },
  {
   "cell_type": "markdown",
   "metadata": {
    "formattedRanges": [],
    "cell_id": "1c7c053707d548baa1f9da889bd6bd28",
    "deepnote_cell_type": "text-cell-h2"
   },
   "source": [
    "## Character cleaning and Lemmatization"
   ],
   "block_group": "48bb656d6004441eb6f444f762e22605"
  },
  {
   "cell_type": "code",
   "metadata": {
    "source_hash": "c44df793",
    "execution_start": 1741369009479,
    "execution_millis": 251,
    "deepnote_table_state": {
     "sortBy": [],
     "filters": [],
     "pageSize": 10,
     "pageIndex": 3,
     "columnOrder": [
      "Unnamed: 0",
      "id",
      "comment_text",
      "toxic",
      "severe_toxic",
      "obscene",
      "threat",
      "insult",
      "identity_hate",
      "clean"
     ],
     "hiddenColumnIds": [],
     "columnDisplayNames": [],
     "conditionalFilters": [],
     "cellFormattingRules": [],
     "wrappedTextColumnIds": []
    },
    "execution_context_id": "3c2484e5-beb7-4309-892a-9c0d1a24ed42",
    "deepnote_table_loading": false,
    "cell_id": "237d152735af45d98bf5ccae147e82f6",
    "deepnote_cell_type": "code",
    "ExecuteTime": {
     "end_time": "2025-03-18T23:05:37.023888Z",
     "start_time": "2025-03-18T23:05:27.089761Z"
    }
   },
   "source": [
    "import re\n",
    "import nltk\n",
    "import ssl\n",
    "\n",
    "try:\n",
    "    _create_unverified_https_context = ssl._create_unverified_context\n",
    "except AttributeError:\n",
    "    pass\n",
    "else:\n",
    "    ssl._create_default_https_context = _create_unverified_https_context\n",
    "\n",
    "nltk.download(\"wordnet\")\n",
    "nltk.download(\"stopwords\")\n",
    "\n",
    "from nltk.stem import WordNetLemmatizer\n",
    "from nltk.corpus import stopwords\n",
    "\n",
    "stopwords = set(stopwords.words(\"english\"))\n",
    "\n",
    "# Regular expression for url\n",
    "url_pattern = r\"https?:\\/\\/(www\\.)?[-a-zA-Z0-9@:%._\\+~#=]{1,256}\\.?[a-zA-Z0-9()]{1,6}\\b([-a-zA-Z0-9()@:%_\\+.~#?&//=]*)\"\n",
    "# Regular expression for non-alphanumeric characters\n",
    "non_alphanumeric_pattern = r\"[^a-zA-Z0-9\\s]\"\n",
    "\n",
    "def clean(text):\n",
    "    # Cleaning\n",
    "    text = text.lower()\n",
    "    text = re.sub(url_pattern, \" url \", text)\n",
    "    text = re.sub(non_alphanumeric_pattern, \"\", text)\n",
    "    \n",
    "    # Remove stopwords\n",
    "    words = [word for word in text.split() if word not in stopwords]\n",
    "\n",
    "    # Lemmatize\n",
    "    lemmatizer = WordNetLemmatizer()\n",
    "    result = \" \".join([lemmatizer.lemmatize(token, pos=\"n\") for token in words])\n",
    "    \n",
    "    return result\n",
    "\n",
    "df[\"comment_text\"] = df[\"comment_text\"].apply(lambda x: clean(x))\n",
    "df.drop([\"comment_length\", \"num_toxicity_labels\"], axis=1, inplace=True)\n",
    "df = df[df[\"comment_text\"].str.len() > 3]\n",
    "df.to_csv(\"cleaned_data.csv\")\n"
   ],
   "block_group": "66fa5f6586c84e2face52e96926ec35c",
   "execution_count": 12,
   "outputs": [
    {
     "name": "stderr",
     "output_type": "stream",
     "text": [
      "[nltk_data] Downloading package wordnet to\n",
      "[nltk_data]     /Users/yumengliu/nltk_data...\n",
      "[nltk_data]   Package wordnet is already up-to-date!\n",
      "[nltk_data] Downloading package stopwords to\n",
      "[nltk_data]     /Users/yumengliu/nltk_data...\n",
      "[nltk_data]   Package stopwords is already up-to-date!\n"
     ]
    }
   ],
   "outputs_reference": "s3:deepnote-cell-outputs-production/94cf3af2-2fd1-4263-8bd9-f0ab09e881c1",
   "content_dependencies": {
    "codeHash": "8a1e4049",
    "usedVariables": [
     "non_alphanumeric_pattern",
     "clean_text",
     "text",
     "url_pattern",
     "df",
     "re"
    ],
    "importedModules": [
     "re"
    ],
    "definedVariables": [
     "url_pattern",
     "text",
     "non_alphanumeric_pattern",
     "clean_text"
    ]
   }
  },
  {
   "cell_type": "code",
   "metadata": {
    "collapsed": false,
    "ExecuteTime": {
     "end_time": "2025-03-18T23:05:41.750331Z",
     "start_time": "2025-03-18T23:05:37.024686Z"
    }
   },
   "source": [
    "# Preparing test data\n",
    "df_test = pd.read_csv(\"test.csv\")\n",
    "df_test_targets = pd.read_csv(\"test_labels.csv\")\n",
    "df_test_merged = df_test.set_index(\"id\").join(df_test_targets.set_index(\"id\"))\n",
    "df_test_merged = df_test_merged[(df_test_merged != -1).all(axis=1)]\n",
    "df_test_merged[\"comment_text\"] = df_test_merged[\"comment_text\"].apply(clean)\n",
    "df_test_merged.fillna(\"placeholder\")\n",
    "df_test_merged.head()"
   ],
   "block_group": "2f5f100586574f67b0fcb28e5ad880ee",
   "execution_count": 13,
   "outputs": [
    {
     "data": {
      "text/plain": "                                                       comment_text  toxic  \\\nid                                                                           \n0001ea8717f6de06  thank understanding think highly would revert ...      0   \n000247e83dcc1211                             dear god site horrible      0   \n0002f87b16116a7f  somebody invariably try add religion really me...      0   \n0003e1cccfd5a40a  say right type type institution needed case th...      0   \n00059ace3e3e9a53  adding new product list make sure relevant add...      0   \n\n                  severe_toxic  obscene  threat  insult  identity_hate  \nid                                                                      \n0001ea8717f6de06             0        0       0       0              0  \n000247e83dcc1211             0        0       0       0              0  \n0002f87b16116a7f             0        0       0       0              0  \n0003e1cccfd5a40a             0        0       0       0              0  \n00059ace3e3e9a53             0        0       0       0              0  ",
      "text/html": "<div>\n<style scoped>\n    .dataframe tbody tr th:only-of-type {\n        vertical-align: middle;\n    }\n\n    .dataframe tbody tr th {\n        vertical-align: top;\n    }\n\n    .dataframe thead th {\n        text-align: right;\n    }\n</style>\n<table border=\"1\" class=\"dataframe\">\n  <thead>\n    <tr style=\"text-align: right;\">\n      <th></th>\n      <th>comment_text</th>\n      <th>toxic</th>\n      <th>severe_toxic</th>\n      <th>obscene</th>\n      <th>threat</th>\n      <th>insult</th>\n      <th>identity_hate</th>\n    </tr>\n    <tr>\n      <th>id</th>\n      <th></th>\n      <th></th>\n      <th></th>\n      <th></th>\n      <th></th>\n      <th></th>\n      <th></th>\n    </tr>\n  </thead>\n  <tbody>\n    <tr>\n      <th>0001ea8717f6de06</th>\n      <td>thank understanding think highly would revert ...</td>\n      <td>0</td>\n      <td>0</td>\n      <td>0</td>\n      <td>0</td>\n      <td>0</td>\n      <td>0</td>\n    </tr>\n    <tr>\n      <th>000247e83dcc1211</th>\n      <td>dear god site horrible</td>\n      <td>0</td>\n      <td>0</td>\n      <td>0</td>\n      <td>0</td>\n      <td>0</td>\n      <td>0</td>\n    </tr>\n    <tr>\n      <th>0002f87b16116a7f</th>\n      <td>somebody invariably try add religion really me...</td>\n      <td>0</td>\n      <td>0</td>\n      <td>0</td>\n      <td>0</td>\n      <td>0</td>\n      <td>0</td>\n    </tr>\n    <tr>\n      <th>0003e1cccfd5a40a</th>\n      <td>say right type type institution needed case th...</td>\n      <td>0</td>\n      <td>0</td>\n      <td>0</td>\n      <td>0</td>\n      <td>0</td>\n      <td>0</td>\n    </tr>\n    <tr>\n      <th>00059ace3e3e9a53</th>\n      <td>adding new product list make sure relevant add...</td>\n      <td>0</td>\n      <td>0</td>\n      <td>0</td>\n      <td>0</td>\n      <td>0</td>\n      <td>0</td>\n    </tr>\n  </tbody>\n</table>\n</div>"
     },
     "execution_count": 13,
     "metadata": {},
     "output_type": "execute_result"
    }
   ],
   "outputs_reference": "dbtable:cell_outputs/ea4a3ef2-a413-4b69-84bb-0f6078dd1ff1",
   "content_dependencies": {
    "codeHash": "a0dd26b7",
    "usedVariables": [
     "nltk"
    ],
    "importedModules": [
     "nltk",
     "WordNetLemmatizer"
    ],
    "definedVariables": []
   }
  },
  {
   "cell_type": "code",
   "outputs": [],
   "source": [
    "df_test_merged.to_csv(\"cleaned_test_data.csv\")"
   ],
   "metadata": {
    "source_hash": "3312aaf8",
    "execution_start": 1741369009776,
    "execution_millis": 460,
    "execution_context_id": "3c2484e5-beb7-4309-892a-9c0d1a24ed42",
    "cell_id": "253162d09d7049a7b6fc955e41c196b1",
    "deepnote_cell_type": "code",
    "ExecuteTime": {
     "end_time": "2025-03-18T23:05:41.987455Z",
     "start_time": "2025-03-18T23:05:41.751511Z"
    }
   },
   "execution_count": 14
  },
  {
   "cell_type": "code",
   "outputs": [],
   "source": [
    "import pandas as pd\n",
    "import numpy as np\n",
    "from sklearn.feature_extraction.text import TfidfVectorizer\n",
    "\n",
    "seed = 1234\n",
    "np.random.seed(seed)"
   ],
   "metadata": {
    "collapsed": false,
    "ExecuteTime": {
     "end_time": "2025-03-18T23:05:41.990323Z",
     "start_time": "2025-03-18T23:05:41.988118Z"
    }
   },
   "execution_count": 15
  },
  {
   "cell_type": "code",
   "outputs": [
    {
     "data": {
      "text/plain": "((151528,), (151528, 6))"
     },
     "execution_count": 16,
     "metadata": {},
     "output_type": "execute_result"
    }
   ],
   "source": [
    "df = pd.read_csv('cleaned_data.csv')\n",
    "df = df.sample(frac=1).reset_index(drop=True)\n",
    "categories = np.array([\"toxic\", \"severe_toxic\", \"obscene\", \"threat\", \"insult\", \"identity_hate\"])\n",
    "X_train, y_train = df['comment_text'].values, df[categories].values.astype(int)\n",
    "X_train.shape, y_train.shape"
   ],
   "metadata": {
    "collapsed": false,
    "ExecuteTime": {
     "end_time": "2025-03-18T23:05:42.293157Z",
     "start_time": "2025-03-18T23:05:41.990840Z"
    }
   },
   "execution_count": 16
  },
  {
   "cell_type": "code",
   "outputs": [],
   "source": [
    "df_test = pd.read_csv(\"cleaned_test_data.csv\")\n",
    "X_test, y_test = df_test['comment_text'].values, df_test[categories].values.astype(int)\n",
    "X_test.shape, y_test.shape\n",
    "\n",
    "MAX_FEATURES = 5000\n",
    "MAX_LENGTH = 1400\n",
    "\n",
    "vectorizer = TfidfVectorizer(ngram_range=(1, 2), max_features=MAX_FEATURES,\n",
    "                             min_df=3, max_df=0.9, use_idf=True,\n",
    "                             smooth_idf=True, sublinear_tf=True)\n",
    "\n",
    "X_train = vectorizer.fit_transform(X_train.astype(str))\n",
    "X_test = vectorizer.transform(X_test.astype(str))"
   ],
   "metadata": {
    "collapsed": false,
    "ExecuteTime": {
     "end_time": "2025-03-18T23:05:53.159992Z",
     "start_time": "2025-03-18T23:05:42.293874Z"
    }
   },
   "execution_count": 17
  },
  {
   "cell_type": "markdown",
   "source": [
    "# Model Training"
   ],
   "metadata": {
    "collapsed": false
   }
  },
  {
   "cell_type": "code",
   "outputs": [],
   "source": [
    "from sklearn.metrics import (\n",
    "    hamming_loss,\n",
    "    roc_auc_score,\n",
    "    balanced_accuracy_score,\n",
    "    f1_score\n",
    ")\n",
    "from sklearn.naive_bayes import MultinomialNB\n",
    "from sklearn.multioutput import MultiOutputClassifier\n",
    "from time import time\n",
    "import warnings\n",
    "\n",
    "warnings.filterwarnings('ignore')\n",
    "\n",
    "result = []\n",
    "\n",
    "\n",
    "def calculate_col_avg_auc(y_true, y_pred):\n",
    "    col_count = y_true.shape[1]\n",
    "    return sum(roc_auc_score(y_test[:, col], y_pred[:, col]) for col in range(col_count)) / col_count\n",
    "\n",
    "\n",
    "def calculate_mean_balanced_acc(y_true, y_pred):\n",
    "    col_count = y_true.shape[1]\n",
    "    return sum(balanced_accuracy_score(y_test[:, col], y_pred[:, col]) for col in range(col_count)) / col_count"
   ],
   "metadata": {
    "collapsed": false,
    "ExecuteTime": {
     "end_time": "2025-03-18T23:05:53.170408Z",
     "start_time": "2025-03-18T23:05:53.161782Z"
    }
   },
   "execution_count": 18
  },
  {
   "cell_type": "markdown",
   "source": [
    "## Multinomial"
   ],
   "metadata": {
    "collapsed": false
   }
  },
  {
   "cell_type": "code",
   "outputs": [
    {
     "data": {
      "text/plain": "{'Type': 'Multinomial',\n 'Hamming Loss': 0.026524742880365125,\n 'ROC AUC': np.float64(0.9556623487380671),\n 'Mean Balanced Accuracy': np.float64(0.6616888277841178),\n 'F1 micro': 0.5864337936636881,\n 'Training Time': 0.07314181327819824}"
     },
     "execution_count": 19,
     "metadata": {},
     "output_type": "execute_result"
    }
   ],
   "source": [
    "start_time = time()\n",
    "classifier = MultiOutputClassifier(MultinomialNB())\n",
    "classifier.fit(X_train, y_train)\n",
    "end_time = time()\n",
    "\n",
    "y_pred_proba = classifier.predict_proba(X_test)\n",
    "y_pred_proba = np.array(y_pred_proba)\n",
    "y_pred_proba = y_pred_proba[:, :, 1].T\n",
    "\n",
    "y_pred = classifier.predict(X_test)\n",
    "\n",
    "row_dict = {}\n",
    "row_dict[\"Type\"] = \"Multinomial\"\n",
    "row_dict[\"Hamming Loss\"] = hamming_loss(y_test, y_pred)\n",
    "row_dict[\"ROC AUC\"] = calculate_col_avg_auc(y_test, y_pred_proba)\n",
    "row_dict[\"Mean Balanced Accuracy\"] = calculate_mean_balanced_acc(y_test, y_pred)\n",
    "row_dict[\"F1 micro\"] = f1_score(y_test, y_pred, average=\"micro\")\n",
    "row_dict[\"Training Time\"] = end_time - start_time\n",
    "\n",
    "result.append(row_dict)\n",
    "row_dict"
   ],
   "metadata": {
    "collapsed": false,
    "ExecuteTime": {
     "end_time": "2025-03-18T23:05:53.397538Z",
     "start_time": "2025-03-18T23:05:53.171019Z"
    }
   },
   "execution_count": 19
  },
  {
   "cell_type": "markdown",
   "source": [
    "## Decision Tree"
   ],
   "metadata": {
    "collapsed": false
   }
  },
  {
   "cell_type": "code",
   "outputs": [
    {
     "data": {
      "text/plain": "{'Type': 'Random Decision Forrest',\n 'Hamming Loss': 0.025698938176664896,\n 'ROC AUC': np.float64(0.9635873612480409),\n 'Mean Balanced Accuracy': np.float64(0.6334086452368891),\n 'F1 micro': 0.599097817694152,\n 'Training Time': 162.1959719657898}"
     },
     "execution_count": 20,
     "metadata": {},
     "output_type": "execute_result"
    }
   ],
   "source": [
    "from sklearn.ensemble import RandomForestClassifier\n",
    "\n",
    "row_dict = {}\n",
    "y_pred = []\n",
    "y_pred_proba = []\n",
    "classifiers = []\n",
    "\n",
    "start_time = time()\n",
    "for col in range(y_test.shape[1]):\n",
    "    classifier = RandomForestClassifier(\n",
    "        max_depth=100,\n",
    "        n_estimators=120,\n",
    "        min_samples_leaf=3,\n",
    "        criterion=\"entropy\",\n",
    "        random_state=seed\n",
    "    )\n",
    "\n",
    "    classifier.fit(X_train, y_train[:, col])\n",
    "    classifiers.append(classifier)\n",
    "\n",
    "end_time = time()\n",
    "\n",
    "for classifier in classifiers:\n",
    "    yi_pred = classifier.predict(X_test)\n",
    "    yi_pred_proba = classifier.predict_proba(X_test)\n",
    "    yi_pred_proba = yi_pred_proba[:, 1]\n",
    "\n",
    "    y_pred.append(yi_pred)\n",
    "    y_pred_proba.append(yi_pred_proba)\n",
    "\n",
    "y_pred = np.array(y_pred).T\n",
    "y_pred_proba = np.array(y_pred_proba).T\n",
    "\n",
    "row_dict[\"Type\"] = \"Random Decision Forrest\"\n",
    "row_dict[\"Hamming Loss\"] = hamming_loss(y_test, y_pred)\n",
    "row_dict[\"ROC AUC\"] = calculate_col_avg_auc(y_test, y_pred_proba)\n",
    "row_dict[\"Mean Balanced Accuracy\"] = calculate_mean_balanced_acc(y_test, y_pred)\n",
    "row_dict[\"F1 micro\"] = f1_score(y_test, y_pred, average=\"micro\")\n",
    "row_dict[\"Training Time\"] = end_time - start_time\n",
    "\n",
    "result.append(row_dict)\n",
    "row_dict"
   ],
   "metadata": {
    "collapsed": false,
    "ExecuteTime": {
     "end_time": "2025-03-18T23:08:50.953706Z",
     "start_time": "2025-03-18T23:05:53.398105Z"
    }
   },
   "execution_count": 20
  },
  {
   "cell_type": "markdown",
   "source": [
    "## Logstic Regression"
   ],
   "metadata": {
    "collapsed": false
   }
  },
  {
   "cell_type": "code",
   "outputs": [
    {
     "data": {
      "text/plain": "{'Type': 'Logistic Regression',\n 'Hamming Loss': 0.0288510633863724,\n 'ROC AUC': np.float64(0.9581336460093767),\n 'Mean Balanced Accuracy': np.float64(0.7514402815909064),\n 'F1 micro': 0.6379180697682022,\n 'Training Time': 127.8353841304779}"
     },
     "execution_count": 21,
     "metadata": {},
     "output_type": "execute_result"
    }
   ],
   "source": [
    "from sklearn.linear_model import SGDClassifier\n",
    "\n",
    "row_dict = {}\n",
    "y_pred = []\n",
    "y_pred_proba = []\n",
    "classifiers = []\n",
    "\n",
    "start_time = time()\n",
    "\n",
    "for col in range(y_test.shape[1]):\n",
    "    classifier = SGDClassifier(\n",
    "        loss='log_loss',\n",
    "        penalty='l2', alpha=1e-20,\n",
    "        learning_rate='adaptive', eta0=1e-2,\n",
    "        tol=0., max_iter=1000, n_iter_no_change=1000,\n",
    "        random_state=seed\n",
    "    )\n",
    "\n",
    "    classifier.fit(X_train, y_train[:, col])\n",
    "    classifiers.append(classifier)\n",
    "\n",
    "end_time = time()\n",
    "\n",
    "for classifier in classifiers:\n",
    "    yi_pred = classifier.predict(X_test)\n",
    "    yi_pred_proba = classifier.predict_proba(X_test)\n",
    "    yi_pred_proba = yi_pred_proba[:, 1]\n",
    "\n",
    "    y_pred.append(yi_pred)\n",
    "    y_pred_proba.append(yi_pred_proba)\n",
    "\n",
    "y_pred = np.array(y_pred).T\n",
    "y_pred_proba = np.array(y_pred_proba).T\n",
    "\n",
    "row_dict[\"Type\"] = \"Logistic Regression\"\n",
    "row_dict[\"Hamming Loss\"] = hamming_loss(y_test, y_pred)\n",
    "row_dict[\"ROC AUC\"] = calculate_col_avg_auc(y_test, y_pred_proba)\n",
    "row_dict[\"Mean Balanced Accuracy\"] = calculate_mean_balanced_acc(y_test, y_pred)\n",
    "row_dict[\"F1 micro\"] = f1_score(y_test, y_pred, average=\"micro\")\n",
    "row_dict[\"Training Time\"] = end_time - start_time\n",
    "\n",
    "result.append(row_dict)\n",
    "row_dict"
   ],
   "metadata": {
    "collapsed": false,
    "ExecuteTime": {
     "end_time": "2025-03-18T23:10:58.891277Z",
     "start_time": "2025-03-18T23:08:50.955038Z"
    }
   },
   "execution_count": 21
  },
  {
   "cell_type": "markdown",
   "source": [
    "## MLP"
   ],
   "metadata": {
    "collapsed": false
   }
  },
  {
   "cell_type": "code",
   "outputs": [
    {
     "data": {
      "text/plain": "<Figure size 640x480 with 1 Axes>",
      "image/png": "[encoded data removed]"
     },
     "metadata": {},
     "output_type": "display_data"
    },
    {
     "data": {
      "text/plain": "{'Type': 'MLP',\n 'Hamming Loss': 0.02800702324757469,\n 'ROC AUC': np.float64(0.9648554756891455),\n 'Mean Balanced Accuracy': np.float64(0.7193835789899242),\n 'F1 micro': 0.6442539955659972,\n 'Training Time': 14.752037763595581}"
     },
     "execution_count": 22,
     "metadata": {},
     "output_type": "execute_result"
    }
   ],
   "source": [
    "import torch\n",
    "import torch.nn as nn\n",
    "import torch.optim as optim\n",
    "from torch.utils.data import Dataset, DataLoader\n",
    "from IPython import display\n",
    "from matplotlib import pyplot as plt\n",
    "\n",
    "torch.manual_seed(seed)\n",
    "\n",
    "\n",
    "class ToxicCommentDataset(Dataset):\n",
    "    def __init__(self, X, y):\n",
    "        X = np.array(X)\n",
    "        y = np.array(y)\n",
    "        self.X = torch.from_numpy(X).float()\n",
    "        self.y = torch.from_numpy(y).float()\n",
    "        self._n_samples = len(X)\n",
    "\n",
    "    def __len__(self):\n",
    "        return self._n_samples\n",
    "\n",
    "    def __getitem__(self, idx):\n",
    "        return self.X[idx], self.y[idx]\n",
    "\n",
    "\n",
    "if type(X_train) is not np.ndarray:\n",
    "    X_train = X_train.toarray()\n",
    "    X_test = X_test.toarray()\n",
    "\n",
    "train_dataset = ToxicCommentDataset(X_train, y_train)\n",
    "val_dataset = ToxicCommentDataset(X_test, y_test)\n",
    "\n",
    "train_loader = DataLoader(dataset=train_dataset, batch_size=10, shuffle=True)\n",
    "val_loader = DataLoader(dataset=val_dataset, batch_size=10, shuffle=False)\n",
    "\n",
    "\n",
    "class MLP(nn.Module):\n",
    "    def __init__(self, layers):\n",
    "        super(MLP, self).__init__()\n",
    "        self._model = nn.Sequential(*layers)\n",
    "\n",
    "    def forward(self, x):\n",
    "        return self._model(x)\n",
    "\n",
    "\n",
    "layers = [\n",
    "    nn.Linear(MAX_FEATURES, 27),\n",
    "    nn.ReLU(),\n",
    "    nn.Linear(27, 6),\n",
    "    nn.Sigmoid()\n",
    "]\n",
    "\n",
    "model = MLP(layers)\n",
    "\n",
    "criterion = nn.BCELoss(reduction=\"sum\")\n",
    "optimizer = optim.Adam(model.parameters(), lr=0.001)\n",
    "\n",
    "auc_scores = [0]\n",
    "f1_scores = [0]\n",
    "mean_accuracy_scores = [0]\n",
    "\n",
    "EPOCH = 2\n",
    "start_time = time()\n",
    "\n",
    "for epoch in range(EPOCH):\n",
    "    model.train()\n",
    "    train_loss = 0\n",
    "    for inputs, targets in train_loader:\n",
    "        optimizer.zero_grad()\n",
    "        outputs = model(inputs)\n",
    "        loss = criterion(outputs, targets)\n",
    "        loss.backward()\n",
    "        optimizer.step()\n",
    "        train_loss += loss.item()\n",
    "\n",
    "    val_loss = 0\n",
    "    model.eval()\n",
    "\n",
    "    y_pred_proba = []\n",
    "    with torch.no_grad():\n",
    "        for inputs, targets in val_loader:\n",
    "            outputs = model(inputs)\n",
    "            y_pred_proba.extend(outputs.detach().numpy())\n",
    "\n",
    "    y_pred_proba = np.array(y_pred_proba)\n",
    "    y_pred = [[0 if col < 0.5 else 1 for col in row] for row in y_pred_proba]\n",
    "    y_pred = np.array(y_pred)\n",
    "\n",
    "    auc_scores.append(calculate_col_avg_auc(y_test, y_pred_proba))\n",
    "    mean_accuracy_scores.append(calculate_mean_balanced_acc(y_test, y_pred))\n",
    "    f1_scores.append(f1_score(y_test, y_pred, average='micro'))\n",
    "\n",
    "    display.clear_output(wait=True)\n",
    "    plt.plot(\n",
    "        range(epoch + 2), auc_scores, 'b-',\n",
    "        range(epoch + 2), mean_accuracy_scores, 'c-',\n",
    "        range(epoch + 2), f1_scores, 'r-',\n",
    "    )\n",
    "    plt.legend([\"AUC\", \"Accuracy\", \"F1\"])\n",
    "    plt.draw()\n",
    "    plt.pause(.01)\n",
    "\n",
    "end_time = time()\n",
    "\n",
    "# Eval\n",
    "y_pred_proba = []\n",
    "with torch.no_grad():\n",
    "    for inputs, targets in val_loader:\n",
    "        outputs = model(inputs)\n",
    "        y_pred_proba.extend(outputs.detach().numpy())\n",
    "\n",
    "y_pred_proba = np.array(y_pred_proba)\n",
    "y_pred = [[0 if col < 0.5 else 1 for col in row] for row in y_pred_proba]\n",
    "y_pred = np.array(y_pred)\n",
    "\n",
    "row_dict = {}\n",
    "row_dict[\"Type\"] = \"MLP\"\n",
    "row_dict[\"Hamming Loss\"] = hamming_loss(y_test, y_pred)\n",
    "row_dict[\"ROC AUC\"] = calculate_col_avg_auc(y_test, y_pred_proba)\n",
    "row_dict[\"Mean Balanced Accuracy\"] = calculate_mean_balanced_acc(y_test, y_pred)\n",
    "row_dict[\"F1 micro\"] = f1_score(y_test, y_pred, average=\"micro\")\n",
    "row_dict[\"Training Time\"] = end_time - start_time\n",
    "result.append(row_dict)\n",
    "row_dict"
   ],
   "metadata": {
    "collapsed": false
   },
   "execution_count": 22
  },
  {
   "cell_type": "code",
   "outputs": [
    {
     "data": {
      "text/plain": "                      Type  Hamming Loss   ROC AUC  Mean Balanced Accuracy  \\\n0              Multinomial      0.026525  0.955662                0.661689   \n1  Random Decision Forrest      0.025699  0.963587                0.633409   \n2      Logistic Regression      0.028851  0.958134                0.751440   \n3                      MLP      0.028007  0.964855                0.719384   \n\n   F1 micro  Training Time  \n0  0.586434       0.073142  \n1  0.599098     162.195972  \n2  0.637918     127.835384  \n3  0.644254      14.752038  ",
      "text/html": "<div>\n<style scoped>\n    .dataframe tbody tr th:only-of-type {\n        vertical-align: middle;\n    }\n\n    .dataframe tbody tr th {\n        vertical-align: top;\n    }\n\n    .dataframe thead th {\n        text-align: right;\n    }\n</style>\n<table border=\"1\" class=\"dataframe\">\n  <thead>\n    <tr style=\"text-align: right;\">\n      <th></th>\n      <th>Type</th>\n      <th>Hamming Loss</th>\n      <th>ROC AUC</th>\n      <th>Mean Balanced Accuracy</th>\n      <th>F1 micro</th>\n      <th>Training Time</th>\n    </tr>\n  </thead>\n  <tbody>\n    <tr>\n      <th>0</th>\n      <td>Multinomial</td>\n      <td>0.026525</td>\n      <td>0.955662</td>\n      <td>0.661689</td>\n      <td>0.586434</td>\n      <td>0.073142</td>\n    </tr>\n    <tr>\n      <th>1</th>\n      <td>Random Decision Forrest</td>\n      <td>0.025699</td>\n      <td>0.963587</td>\n      <td>0.633409</td>\n      <td>0.599098</td>\n      <td>162.195972</td>\n    </tr>\n    <tr>\n      <th>2</th>\n      <td>Logistic Regression</td>\n      <td>0.028851</td>\n      <td>0.958134</td>\n      <td>0.751440</td>\n      <td>0.637918</td>\n      <td>127.835384</td>\n    </tr>\n    <tr>\n      <th>3</th>\n      <td>MLP</td>\n      <td>0.028007</td>\n      <td>0.964855</td>\n      <td>0.719384</td>\n      <td>0.644254</td>\n      <td>14.752038</td>\n    </tr>\n  </tbody>\n</table>\n</div>"
     },
     "execution_count": 23,
     "metadata": {},
     "output_type": "execute_result"
    }
   ],
   "source": [
    "## Result\n",
    "pd.DataFrame.from_dict(result)"
   ],
   "metadata": {
    "collapsed": false,
    "ExecuteTime": {
     "end_time": "2025-03-18T23:11:21.792124Z",
     "start_time": "2025-03-18T23:11:21.762786Z"
    }
   },
   "execution_count": 23
  },
  {
   "cell_type": "markdown",
   "source": [
    "## Conclusion\n",
    "MLP model is the best\n"
   ],
   "metadata": {
    "collapsed": false
   }
  }
 ],
 "nbformat": 4,
 "nbformat_minor": 0,
 "metadata": {
  "deepnote_notebook_id": "1eca9547c1cd499dbed7081870d2cbbe",
  "kernelspec": {
   "name": "python3",
   "language": "python",
   "display_name": "Python 3 (ipykernel)"
  }
 }
}
